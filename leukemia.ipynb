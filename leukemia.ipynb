{
 "cells": [
  {
   "cell_type": "markdown",
   "metadata": {},
   "source": [
    "# Import packages"
   ]
  },
  {
   "cell_type": "code",
   "execution_count": 135,
   "metadata": {},
   "outputs": [],
   "source": [
    "import numpy as np\n",
    "import random\n",
    "import pandas as pd\n",
    "import matplotlib.pyplot as plt\n",
    "%matplotlib inline\n",
    "import tensorflow\n",
    "import os\n",
    "import glob\n",
    "import time\n",
    "from PIL import Image\n",
    "from tqdm import tqdm\n",
    "from sklearn.utils import shuffle\n",
    "\n",
    "from tensorflow.keras.preprocessing.image import ImageDataGenerator\n",
    "from tensorflow.keras.models import Sequential\n",
    "from tensorflow.keras.layers import InputLayer, Conv2D, BatchNormalization, MaxPool2D, Dropout, Flatten, Dense\n",
    "from tensorflow.keras.callbacks import EarlyStopping, ModelCheckpoint, ReduceLROnPlateau\n",
    "\n",
    "from sklearn.model_selection import train_test_split, GridSearchCV\n",
    "from sklearn.metrics import confusion_matrix, classification_report, accuracy_score\n",
    "from sklearn.decomposition import PCA #Principal Component Analysis\n",
    "from sklearn.discriminant_analysis import LinearDiscriminantAnalysis\n",
    "from sklearn.ensemble import RandomForestClassifier\n",
    "from sklearn.linear_model import LogisticRegressionCV, LogisticRegression\n",
    "\n",
    "\n",
    "\n",
    "from tensorflow.keras.applications.vgg16 import VGG16\n",
    "import tensorflow.keras.applications.vgg16 as vgg16\n",
    "from tensorflow.keras.applications.densenet import DenseNet121\n",
    "import tensorflow.keras.applications.densenet as densenet\n",
    "from tensorflow.keras.applications.xception import Xception\n",
    "import tensorflow.keras.applications.xception as xception\n",
    "from tensorflow.keras.layers import Dense, Flatten\n",
    "from tensorflow.keras.models import Model\n",
    "from tensorflow.keras.optimizers import SGD, Adam\n",
    "import matplotlib.pyplot as plt\n",
    "import time"
   ]
  },
  {
   "cell_type": "markdown",
   "metadata": {},
   "source": [
    "# Load data"
   ]
  },
  {
   "cell_type": "code",
   "execution_count": 4,
   "metadata": {},
   "outputs": [],
   "source": [
    "# reference: https://www.kaggle.com/gauravrajpal/leukemia-classification-v1-2-xception-66-52\n",
    "\n",
    "# load training data\n",
    "train_0_all = glob.glob('cs156 final/training_data/fold_0/all/*.bmp')\n",
    "train_0_hem = glob.glob('cs156 final/training_data/fold_0/hem/*.bmp')\n",
    "train_1_all = glob.glob('cs156 final/training_data/fold_1/all/*.bmp')\n",
    "train_1_hem = glob.glob('cs156 final/training_data/fold_1/hem/*.bmp')\n",
    "train_2_all = glob.glob('cs156 final/training_data/fold_2/all/*.bmp')\n",
    "train_2_hem = glob.glob('cs156 final/training_data/fold_2/hem/*.bmp')"
   ]
  },
  {
   "cell_type": "code",
   "execution_count": 5,
   "metadata": {},
   "outputs": [
    {
     "data": {
      "text/html": [
       "<div>\n",
       "<style scoped>\n",
       "    .dataframe tbody tr th:only-of-type {\n",
       "        vertical-align: middle;\n",
       "    }\n",
       "\n",
       "    .dataframe tbody tr th {\n",
       "        vertical-align: top;\n",
       "    }\n",
       "\n",
       "    .dataframe thead th {\n",
       "        text-align: right;\n",
       "    }\n",
       "</style>\n",
       "<table border=\"1\" class=\"dataframe\">\n",
       "  <thead>\n",
       "    <tr style=\"text-align: right;\">\n",
       "      <th></th>\n",
       "      <th>Patient_ID</th>\n",
       "      <th>new_names</th>\n",
       "      <th>labels</th>\n",
       "    </tr>\n",
       "  </thead>\n",
       "  <tbody>\n",
       "    <tr>\n",
       "      <th>0</th>\n",
       "      <td>UID_57_29_1_all.bmp</td>\n",
       "      <td>1.bmp</td>\n",
       "      <td>1</td>\n",
       "    </tr>\n",
       "    <tr>\n",
       "      <th>1</th>\n",
       "      <td>UID_57_22_2_all.bmp</td>\n",
       "      <td>2.bmp</td>\n",
       "      <td>1</td>\n",
       "    </tr>\n",
       "    <tr>\n",
       "      <th>2</th>\n",
       "      <td>UID_57_31_3_all.bmp</td>\n",
       "      <td>3.bmp</td>\n",
       "      <td>1</td>\n",
       "    </tr>\n",
       "    <tr>\n",
       "      <th>3</th>\n",
       "      <td>UID_H49_35_1_hem.bmp</td>\n",
       "      <td>4.bmp</td>\n",
       "      <td>0</td>\n",
       "    </tr>\n",
       "    <tr>\n",
       "      <th>4</th>\n",
       "      <td>UID_58_6_13_all.bmp</td>\n",
       "      <td>5.bmp</td>\n",
       "      <td>1</td>\n",
       "    </tr>\n",
       "    <tr>\n",
       "      <th>5</th>\n",
       "      <td>UID_57_8_11_all.bmp</td>\n",
       "      <td>6.bmp</td>\n",
       "      <td>1</td>\n",
       "    </tr>\n",
       "    <tr>\n",
       "      <th>6</th>\n",
       "      <td>UID_H49_29_2_hem.bmp</td>\n",
       "      <td>7.bmp</td>\n",
       "      <td>0</td>\n",
       "    </tr>\n",
       "    <tr>\n",
       "      <th>7</th>\n",
       "      <td>UID_H30_6_2_hem.bmp</td>\n",
       "      <td>8.bmp</td>\n",
       "      <td>0</td>\n",
       "    </tr>\n",
       "    <tr>\n",
       "      <th>8</th>\n",
       "      <td>UID_58_2_1_all.bmp</td>\n",
       "      <td>9.bmp</td>\n",
       "      <td>1</td>\n",
       "    </tr>\n",
       "    <tr>\n",
       "      <th>9</th>\n",
       "      <td>UID_54_35_3_all.bmp</td>\n",
       "      <td>10.bmp</td>\n",
       "      <td>1</td>\n",
       "    </tr>\n",
       "  </tbody>\n",
       "</table>\n",
       "</div>"
      ],
      "text/plain": [
       "             Patient_ID new_names  labels\n",
       "0   UID_57_29_1_all.bmp     1.bmp       1\n",
       "1   UID_57_22_2_all.bmp     2.bmp       1\n",
       "2   UID_57_31_3_all.bmp     3.bmp       1\n",
       "3  UID_H49_35_1_hem.bmp     4.bmp       0\n",
       "4   UID_58_6_13_all.bmp     5.bmp       1\n",
       "5   UID_57_8_11_all.bmp     6.bmp       1\n",
       "6  UID_H49_29_2_hem.bmp     7.bmp       0\n",
       "7   UID_H30_6_2_hem.bmp     8.bmp       0\n",
       "8    UID_58_2_1_all.bmp     9.bmp       1\n",
       "9   UID_54_35_3_all.bmp    10.bmp       1"
      ]
     },
     "execution_count": 5,
     "metadata": {},
     "output_type": "execute_result"
    }
   ],
   "source": [
    "# load labels for test data\n",
    "valid_labels = pd.read_csv('cs156 final/validation_data/C-NMC_test_prelim_phase_data_labels.csv')\n",
    "valid_labels.head(10)"
   ]
  },
  {
   "cell_type": "code",
   "execution_count": 7,
   "metadata": {},
   "outputs": [],
   "source": [
    "# stack all training data\n",
    "train_all = np.hstack((np.array(train_0_all), np.array(train_1_all), np.array(train_2_all)))\n",
    "train_hem = np.hstack((np.array(train_0_hem), np.array(train_1_hem), np.array(train_2_hem)))"
   ]
  },
  {
   "cell_type": "code",
   "execution_count": 8,
   "metadata": {},
   "outputs": [
    {
     "name": "stderr",
     "output_type": "stream",
     "text": [
      "100%|██████████| 3389/3389 [00:08<00:00, 419.36it/s]\n"
     ]
    }
   ],
   "source": [
    "# read and convert images to numpy array for healthy\n",
    "train_hem_np = []\n",
    "for i in tqdm(range(len(train_hem))):\n",
    "    train_hem_np.append(np.array(Image.open(train_hem[i]).resize((100,100))))\n"
   ]
  },
  {
   "cell_type": "code",
   "execution_count": 9,
   "metadata": {},
   "outputs": [
    {
     "name": "stderr",
     "output_type": "stream",
     "text": [
      "100%|██████████| 7272/7272 [00:18<00:00, 398.90it/s]\n"
     ]
    }
   ],
   "source": [
    "# read and convert images to numpy array for leukemia\n",
    "train_all_np = []\n",
    "for i in tqdm(range(len(train_all))):\n",
    "    train_all_np.append(np.array(Image.open(train_all[i]).resize((100,100))))"
   ]
  },
  {
   "cell_type": "code",
   "execution_count": 10,
   "metadata": {},
   "outputs": [],
   "source": [
    "# stack healthy and leukemia for training\n",
    "train_np = np.vstack((np.array(train_all_np), np.array(train_hem_np)))\n",
    "train_label = np.vstack((np.ones((len(train_all_np),1)), np.zeros((len(train_hem_np),1))))\n",
    "train_np, train_label = shuffle(train_np, train_label, random_state=123)"
   ]
  },
  {
   "cell_type": "code",
   "execution_count": 77,
   "metadata": {},
   "outputs": [
    {
     "data": {
      "text/plain": [
       "(10661, 100, 100, 3)"
      ]
     },
     "execution_count": 77,
     "metadata": {},
     "output_type": "execute_result"
    }
   ],
   "source": [
    "# check shape of training set\n",
    "train_np.shape"
   ]
  },
  {
   "cell_type": "code",
   "execution_count": 87,
   "metadata": {},
   "outputs": [
    {
     "data": {
      "text/plain": [
       "0.68211237219773"
      ]
     },
     "execution_count": 87,
     "metadata": {},
     "output_type": "execute_result"
    }
   ],
   "source": [
    "# proportion of class 1 in training\n",
    "train_label.sum() / len(train_label)"
   ]
  },
  {
   "cell_type": "code",
   "execution_count": 152,
   "metadata": {},
   "outputs": [
    {
     "name": "stdout",
     "output_type": "stream",
     "text": [
      "leukemia 7272.0\n",
      "healthy 3389.0\n"
     ]
    }
   ],
   "source": [
    "# number of class 1 and class 0 in training\n",
    "print('leukemia', 10661*0.68211237219773)\n",
    "print('healthy', 10661 - 10661*0.68211237219773)"
   ]
  },
  {
   "cell_type": "code",
   "execution_count": 78,
   "metadata": {},
   "outputs": [],
   "source": [
    "# sample randomly 3000 samples from each class in training to train\n",
    "ind_bal = shuffle(np.hstack((np.random.choice(np.where(train_label == 1)[0], 3000), np.random.choice(np.where(train_label == 0)[0], 3000))))\n",
    "X_train = train_np[ind_bal]\n",
    "y_train = train_label[ind_bal]"
   ]
  },
  {
   "cell_type": "code",
   "execution_count": 98,
   "metadata": {},
   "outputs": [
    {
     "name": "stderr",
     "output_type": "stream",
     "text": [
      "100%|██████████| 6/6 [00:00<00:00, 426.85it/s]\n"
     ]
    },
    {
     "data": {
      "image/png": "[encoded data removed]",
      "text/plain": [
       "<Figure size 1440x1440 with 6 Axes>"
      ]
     },
     "metadata": {
      "needs_background": "light"
     },
     "output_type": "display_data"
    }
   ],
   "source": [
    "# check out the images for healthy and leukemia\n",
    "fig, ax = plt.subplots(nrows = 1, ncols = 6, figsize = (20,20))\n",
    "for i in tqdm(range(6)):\n",
    "    ind = np.random.randint(len(X_train))\n",
    "    ax[i].imshow(X_train[ind])\n",
    "    if y_train[ind] == 1:\n",
    "        ax[i].set_title('Leukemia')\n",
    "    else:\n",
    "        ax[i].set_title('Healthy')"
   ]
  },
  {
   "cell_type": "code",
   "execution_count": 43,
   "metadata": {},
   "outputs": [
    {
     "name": "stderr",
     "output_type": "stream",
     "text": [
      "100%|██████████| 1867/1867 [00:07<00:00, 256.28it/s]\n"
     ]
    }
   ],
   "source": [
    "# load the test set\n",
    "test_np = []\n",
    "test_label = []\n",
    "for i in tqdm(range(valid_labels.shape[0])):\n",
    "    tail = f'{i+1}.bmp'\n",
    "    path = 'cs156 final/validation_data/C-NMC_test_prelim_phase_data/' + tail\n",
    "    test_np.append(np.array(Image.open(path).resize((100,100))))\n",
    "    test_label.append(valid_labels[valid_labels['new_names'] == tail]['labels'].iloc[0])\n",
    "test_np = np.array(test_np)\n",
    "test_label = np.array(test_label).reshape(-1,1)"
   ]
  },
  {
   "cell_type": "code",
   "execution_count": 79,
   "metadata": {},
   "outputs": [],
   "source": [
    "# randomly sample 500 healthy and leukemia samples for test\n",
    "ind_bal_test = shuffle(np.hstack((np.random.choice(np.where(test_label == 1)[0], 500), np.random.choice(np.where(test_label == 0)[0], 500))))\n",
    "X_test = test_np[ind_bal_test]\n",
    "y_test = test_label[ind_bal_test]"
   ]
  },
  {
   "cell_type": "markdown",
   "metadata": {},
   "source": [
    "# Build the models"
   ]
  },
  {
   "cell_type": "markdown",
   "metadata": {},
   "source": [
    "## Deep Learning"
   ]
  },
  {
   "cell_type": "code",
   "execution_count": 124,
   "metadata": {},
   "outputs": [],
   "source": [
    "# reference: https://www.kaggle.com/gauravrajpal/leukemia-classification-v1-2-xception-66-52\n",
    "\n",
    "# build the deep learning model with transfer learning\n",
    "def individual_model(app, model_name, path_to_model, X_train, y_train, X_test, y_test, min_delta = 0.00003, k = 0, epochs=20, batch_size=20, threshold=0.5, drop_rate=0.3, class_weight=None):\n",
    "    # augment the images\n",
    "    X_train, X_val, y_train, y_val = train_test_split(X_train, y_train, random_state=123, test_size=0.2)\n",
    "    \n",
    "    datagen  = ImageDataGenerator(horizontal_flip=True,\n",
    "                                    vertical_flip=True,\n",
    "                                    preprocessing_function=app.preprocess_input)\n",
    "    datagen.fit(X_train)\n",
    "    \n",
    "    # pre-process test data\n",
    "    X_val = app.preprocess_input(X_val)\n",
    "    X_test = app.preprocess_input(X_test)\n",
    "    \n",
    "    # get the base model\n",
    "    base_model = model_name(include_top=False, input_shape=(100, 100, 3), weights='imagenet')\n",
    "    \n",
    "    # get the output of the base model\n",
    "    mod = base_model.output\n",
    "    \n",
    "    # add new layers on top\n",
    "    mod = Flatten()(mod)\n",
    "    mod = Dense(1024, activation='relu')(mod)\n",
    "    mod = Dropout(drop_rate)(mod)\n",
    "    mod = Dense(512, activation='relu')(mod)\n",
    "    mod = Dropout(drop_rate)(mod)\n",
    "    mod = Dense(256, activation='relu')(mod)\n",
    "    mod = Dropout(drop_rate)(mod)\n",
    "    \n",
    "    # add output layers\n",
    "    output = Dense(1, activation='sigmoid')(mod)\n",
    "    \n",
    "    # start time\n",
    "    start = time.time()\n",
    "\n",
    "    # make new model\n",
    "    model = Model(inputs=base_model.inputs, outputs=output)\n",
    "    \n",
    "    # unfreeze k last layers of base model\n",
    "    for layer in model.layers[:len(base_model.layers)-k]:\n",
    "        layer.trainable = False\n",
    "    for layer in model.layers[len(base_model.layers)-k:]:\n",
    "        layer.trainable = True\n",
    "\n",
    "    # compile the model\n",
    "    model.compile(optimizer=SGD(lr=0.0001, momentum=0.9), loss='binary_crossentropy', metrics = ['accuracy'])\n",
    "\n",
    "#     model.compile(optimizer=Adam(lr=0.0001), loss='binary_crossentropy', metrics = ['accuracy'])\n",
    "    \n",
    "    # path to log checkpoints\n",
    "    filepath = f'./best_weights/{path_to_model}'\n",
    "    \n",
    "    # early stopping if no improvement after 10 epochs\n",
    "    earlystopping = EarlyStopping(monitor = 'val_accuracy', \n",
    "                                  mode = 'max' , \n",
    "                                  patience = 10,\n",
    "                                  verbose = 1)\n",
    "    \n",
    "    # checkpoint for best performance\n",
    "    checkpoint = ModelCheckpoint(filepath, \n",
    "                                    monitor = 'val_accuracy', \n",
    "                                    mode='max', \n",
    "                                    save_best_only=True, \n",
    "                                    verbose = 1)\n",
    "    \n",
    "    # reduce learning rate if no improvement\n",
    "    learning_rate = ReduceLROnPlateau(monitor = 'val_accuracy',\n",
    "                                      mode = 'max',\n",
    "                                      patience = 5,\n",
    "                                      factor = 0.3,\n",
    "                                      min_delta = min_delta)\n",
    "\n",
    "    # callbacks\n",
    "    callbacks = [earlystopping, checkpoint, learning_rate]\n",
    "    \n",
    "    # train the model with validation and callbacks\n",
    "    history = model.fit(datagen.flow(X_train, y_train), epochs=epochs,\\\n",
    "                        validation_data = (X_val, y_val),\n",
    "                        batch_size = batch_size, class_weight = class_weight, callbacks=callbacks)\n",
    "    \n",
    "#     history = model.fit(X_train, y_train, epochs=epochs,\\\n",
    "#                         validation_data = (X_test, y_test),\n",
    "#                         batch_size = batch_size, class_weight = class_weight, callbacks=callbacks)\n",
    "\n",
    "    print('training time', time.time() - start)\n",
    "    \n",
    "    # test the model\n",
    "    print('loss and accuracy', model.evaluate(X_test, y_test))\n",
    "\n",
    "    # get predicted labels based on threshold\n",
    "    y_pred_prob_train = model.predict(X_train, batch_size=20, verbose=1)\n",
    "    y_pred_prob = model.predict(X_test, batch_size=20, verbose=1)\n",
    "    y_pred = [[1] if y_pred_prob[i][0] > threshold else [0] for i in range(len(y_test))]\n",
    "    \n",
    "    # detailed report\n",
    "    print('detailed report')\n",
    "    print(classification_report(y_test, y_pred))\n",
    "    print('confusion matrix')\n",
    "    print(confusion_matrix(y_test, y_pred))\n",
    "    \n",
    "    # plot accuracy of train and validation at each epoch\n",
    "    plt.plot(history.history['accuracy'])\n",
    "    plt.plot(history.history['val_accuracy'])\n",
    "    plt.title('model accuracy')\n",
    "    plt.ylabel('accuracy')\n",
    "    plt.xlabel('epoch')\n",
    "    plt.legend(['train', 'validation'], loc='upper left')\n",
    "    plt.show()\n",
    "    \n",
    "    # return probability for each test sample\n",
    "    return y_pred_prob_train, y_train, y_pred_prob"
   ]
  },
  {
   "cell_type": "code",
   "execution_count": 140,
   "metadata": {},
   "outputs": [
    {
     "name": "stdout",
     "output_type": "stream",
     "text": [
      "Epoch 1/20\n",
      "150/150 [==============================] - ETA: 0s - loss: 0.9696 - accuracy: 0.6492\n",
      "Epoch 00001: val_accuracy improved from -inf to 0.76833, saving model to ./best_weights/vgg16\n",
      "INFO:tensorflow:Assets written to: ./best_weights/vgg16/assets\n",
      "150/150 [==============================] - 31s 206ms/step - loss: 0.9696 - accuracy: 0.6492 - val_loss: 0.4809 - val_accuracy: 0.7683\n",
      "Epoch 2/20\n",
      "150/150 [==============================] - ETA: 0s - loss: 0.6531 - accuracy: 0.6960\n",
      "Epoch 00002: val_accuracy did not improve from 0.76833\n",
      "150/150 [==============================] - 27s 182ms/step - loss: 0.6531 - accuracy: 0.6960 - val_loss: 0.4962 - val_accuracy: 0.7550\n",
      "Epoch 3/20\n",
      "150/150 [==============================] - ETA: 0s - loss: 0.6094 - accuracy: 0.7060\n",
      "Epoch 00003: val_accuracy improved from 0.76833 to 0.77917, saving model to ./best_weights/vgg16\n",
      "INFO:tensorflow:Assets written to: ./best_weights/vgg16/assets\n",
      "150/150 [==============================] - 30s 200ms/step - loss: 0.6094 - accuracy: 0.7060 - val_loss: 0.4817 - val_accuracy: 0.7792\n",
      "Epoch 4/20\n",
      "150/150 [==============================] - ETA: 0s - loss: 0.5566 - accuracy: 0.7285\n",
      "Epoch 00004: val_accuracy improved from 0.77917 to 0.78333, saving model to ./best_weights/vgg16\n",
      "INFO:tensorflow:Assets written to: ./best_weights/vgg16/assets\n",
      "150/150 [==============================] - 31s 208ms/step - loss: 0.5566 - accuracy: 0.7285 - val_loss: 0.4753 - val_accuracy: 0.7833\n",
      "Epoch 5/20\n",
      "150/150 [==============================] - ETA: 0s - loss: 0.5389 - accuracy: 0.7390\n",
      "Epoch 00005: val_accuracy did not improve from 0.78333\n",
      "150/150 [==============================] - 28s 188ms/step - loss: 0.5389 - accuracy: 0.7390 - val_loss: 0.4707 - val_accuracy: 0.7700\n",
      "Epoch 6/20\n",
      "150/150 [==============================] - ETA: 0s - loss: 0.5240 - accuracy: 0.7510\n",
      "Epoch 00006: val_accuracy did not improve from 0.78333\n",
      "150/150 [==============================] - 28s 187ms/step - loss: 0.5240 - accuracy: 0.7510 - val_loss: 0.5109 - val_accuracy: 0.7533\n",
      "Epoch 7/20\n",
      "150/150 [==============================] - ETA: 0s - loss: 0.5192 - accuracy: 0.7458\n",
      "Epoch 00007: val_accuracy did not improve from 0.78333\n",
      "150/150 [==============================] - 28s 187ms/step - loss: 0.5192 - accuracy: 0.7458 - val_loss: 0.4702 - val_accuracy: 0.7725\n",
      "Epoch 8/20\n",
      "150/150 [==============================] - ETA: 0s - loss: 0.5201 - accuracy: 0.7440\n",
      "Epoch 00008: val_accuracy did not improve from 0.78333\n",
      "150/150 [==============================] - 28s 186ms/step - loss: 0.5201 - accuracy: 0.7440 - val_loss: 0.4819 - val_accuracy: 0.7633\n",
      "Epoch 9/20\n",
      "150/150 [==============================] - ETA: 0s - loss: 0.5117 - accuracy: 0.7523\n",
      "Epoch 00009: val_accuracy did not improve from 0.78333\n",
      "150/150 [==============================] - 28s 188ms/step - loss: 0.5117 - accuracy: 0.7523 - val_loss: 0.4605 - val_accuracy: 0.7775\n",
      "Epoch 10/20\n",
      "150/150 [==============================] - ETA: 0s - loss: 0.4968 - accuracy: 0.7656\n",
      "Epoch 00010: val_accuracy did not improve from 0.78333\n",
      "150/150 [==============================] - 28s 188ms/step - loss: 0.4968 - accuracy: 0.7656 - val_loss: 0.4625 - val_accuracy: 0.7733\n",
      "Epoch 11/20\n",
      "150/150 [==============================] - ETA: 0s - loss: 0.5009 - accuracy: 0.7585\n",
      "Epoch 00011: val_accuracy did not improve from 0.78333\n",
      "150/150 [==============================] - 28s 189ms/step - loss: 0.5009 - accuracy: 0.7585 - val_loss: 0.4611 - val_accuracy: 0.7742\n",
      "Epoch 12/20\n",
      "150/150 [==============================] - ETA: 0s - loss: 0.4950 - accuracy: 0.7588\n",
      "Epoch 00012: val_accuracy did not improve from 0.78333\n",
      "150/150 [==============================] - 28s 190ms/step - loss: 0.4950 - accuracy: 0.7588 - val_loss: 0.4606 - val_accuracy: 0.7825\n",
      "Epoch 13/20\n",
      "150/150 [==============================] - ETA: 0s - loss: 0.4935 - accuracy: 0.7635\n",
      "Epoch 00013: val_accuracy did not improve from 0.78333\n",
      "150/150 [==============================] - 29s 190ms/step - loss: 0.4935 - accuracy: 0.7635 - val_loss: 0.4617 - val_accuracy: 0.7742\n",
      "Epoch 14/20\n",
      "150/150 [==============================] - ETA: 0s - loss: 0.4846 - accuracy: 0.7638\n",
      "Epoch 00014: val_accuracy did not improve from 0.78333\n",
      "150/150 [==============================] - 28s 190ms/step - loss: 0.4846 - accuracy: 0.7638 - val_loss: 0.4595 - val_accuracy: 0.7750\n",
      "Epoch 00014: early stopping\n",
      "training time 405.6991868019104\n",
      "32/32 [==============================] - 4s 139ms/step - loss: 0.7037 - accuracy: 0.5840\n",
      "loss and accuracy [0.7037352323532104, 0.5839999914169312]\n",
      "240/240 [==============================] - 23s 97ms/step\n",
      "50/50 [==============================] - 5s 94ms/step\n",
      "detailed report\n",
      "              precision    recall  f1-score   support\n",
      "\n",
      "           0       0.68      0.32      0.43       500\n",
      "           1       0.55      0.85      0.67       500\n",
      "\n",
      "    accuracy                           0.58      1000\n",
      "   macro avg       0.62      0.58      0.55      1000\n",
      "weighted avg       0.62      0.58      0.55      1000\n",
      "\n",
      "confusion matrix\n",
      "[[159 341]\n",
      " [ 75 425]]\n"
     ]
    },
    {
     "data": {
      "image/png": "[encoded data removed]",
      "text/plain": [
       "<Figure size 432x288 with 1 Axes>"
      ]
     },
     "metadata": {
      "needs_background": "light"
     },
     "output_type": "display_data"
    }
   ],
   "source": [
    "# vgg16, 0 trainable layers in base model\n",
    "y_pred_prob_train_vgg1, y_train_vgg1, y_pred_prob_vgg1 = individual_model(vgg16, VGG16, 'vgg16', X_train, y_train, X_test, y_test, min_delta = 0.00003, k = 0, epochs=20, batch_size=20, threshold=0.5, drop_rate=0.3, class_weight=None)\n"
   ]
  },
  {
   "cell_type": "code",
   "execution_count": 141,
   "metadata": {},
   "outputs": [
    {
     "name": "stdout",
     "output_type": "stream",
     "text": [
      "Epoch 1/20\n",
      "150/150 [==============================] - ETA: 0s - loss: 0.6288 - accuracy: 0.6927\n",
      "Epoch 00001: val_accuracy improved from -inf to 0.75833, saving model to ./best_weights/vgg16_2\n",
      "INFO:tensorflow:Assets written to: ./best_weights/vgg16_2/assets\n",
      "150/150 [==============================] - 76s 506ms/step - loss: 0.6288 - accuracy: 0.6927 - val_loss: 0.4849 - val_accuracy: 0.7583\n",
      "Epoch 2/20\n",
      "150/150 [==============================] - ETA: 0s - loss: 0.5093 - accuracy: 0.7544\n",
      "Epoch 00002: val_accuracy improved from 0.75833 to 0.77833, saving model to ./best_weights/vgg16_2\n",
      "INFO:tensorflow:Assets written to: ./best_weights/vgg16_2/assets\n",
      "150/150 [==============================] - 73s 488ms/step - loss: 0.5093 - accuracy: 0.7544 - val_loss: 0.4780 - val_accuracy: 0.7783\n",
      "Epoch 3/20\n",
      "150/150 [==============================] - ETA: 0s - loss: 0.4854 - accuracy: 0.7671\n",
      "Epoch 00003: val_accuracy did not improve from 0.77833\n",
      "150/150 [==============================] - 70s 466ms/step - loss: 0.4854 - accuracy: 0.7671 - val_loss: 0.4642 - val_accuracy: 0.7733\n",
      "Epoch 4/20\n",
      "150/150 [==============================] - ETA: 0s - loss: 0.4692 - accuracy: 0.7779\n",
      "Epoch 00004: val_accuracy did not improve from 0.77833\n",
      "150/150 [==============================] - 70s 469ms/step - loss: 0.4692 - accuracy: 0.7779 - val_loss: 0.4828 - val_accuracy: 0.7517\n",
      "Epoch 5/20\n",
      "150/150 [==============================] - ETA: 0s - loss: 0.4604 - accuracy: 0.7821\n",
      "Epoch 00005: val_accuracy improved from 0.77833 to 0.80333, saving model to ./best_weights/vgg16_2\n",
      "INFO:tensorflow:Assets written to: ./best_weights/vgg16_2/assets\n",
      "150/150 [==============================] - 73s 486ms/step - loss: 0.4604 - accuracy: 0.7821 - val_loss: 0.4528 - val_accuracy: 0.8033\n",
      "Epoch 6/20\n",
      "150/150 [==============================] - ETA: 0s - loss: 0.4554 - accuracy: 0.7833\n",
      "Epoch 00006: val_accuracy improved from 0.80333 to 0.80500, saving model to ./best_weights/vgg16_2\n",
      "INFO:tensorflow:Assets written to: ./best_weights/vgg16_2/assets\n",
      "150/150 [==============================] - 72s 482ms/step - loss: 0.4554 - accuracy: 0.7833 - val_loss: 0.4404 - val_accuracy: 0.8050\n",
      "Epoch 7/20\n",
      "150/150 [==============================] - ETA: 0s - loss: 0.4525 - accuracy: 0.7844\n",
      "Epoch 00007: val_accuracy did not improve from 0.80500\n",
      "150/150 [==============================] - 70s 469ms/step - loss: 0.4525 - accuracy: 0.7844 - val_loss: 0.4730 - val_accuracy: 0.7658\n",
      "Epoch 8/20\n",
      "150/150 [==============================] - ETA: 0s - loss: 0.4400 - accuracy: 0.7917\n",
      "Epoch 00008: val_accuracy did not improve from 0.80500\n",
      "150/150 [==============================] - 70s 467ms/step - loss: 0.4400 - accuracy: 0.7917 - val_loss: 0.4436 - val_accuracy: 0.7933\n",
      "Epoch 9/20\n",
      "150/150 [==============================] - ETA: 0s - loss: 0.4309 - accuracy: 0.7981\n",
      "Epoch 00009: val_accuracy did not improve from 0.80500\n",
      "150/150 [==============================] - 70s 468ms/step - loss: 0.4309 - accuracy: 0.7981 - val_loss: 0.4555 - val_accuracy: 0.8042\n",
      "Epoch 10/20\n",
      "150/150 [==============================] - ETA: 0s - loss: 0.4231 - accuracy: 0.8002\n",
      "Epoch 00010: val_accuracy improved from 0.80500 to 0.81083, saving model to ./best_weights/vgg16_2\n",
      "INFO:tensorflow:Assets written to: ./best_weights/vgg16_2/assets\n",
      "150/150 [==============================] - 73s 488ms/step - loss: 0.4231 - accuracy: 0.8002 - val_loss: 0.4293 - val_accuracy: 0.8108\n",
      "Epoch 11/20\n",
      "150/150 [==============================] - ETA: 0s - loss: 0.4259 - accuracy: 0.8006\n",
      "Epoch 00011: val_accuracy did not improve from 0.81083\n",
      "150/150 [==============================] - 71s 472ms/step - loss: 0.4259 - accuracy: 0.8006 - val_loss: 0.4249 - val_accuracy: 0.8033\n",
      "Epoch 12/20\n",
      "150/150 [==============================] - ETA: 0s - loss: 0.4150 - accuracy: 0.8062\n",
      "Epoch 00012: val_accuracy improved from 0.81083 to 0.81250, saving model to ./best_weights/vgg16_2\n",
      "INFO:tensorflow:Assets written to: ./best_weights/vgg16_2/assets\n",
      "150/150 [==============================] - 73s 483ms/step - loss: 0.4150 - accuracy: 0.8062 - val_loss: 0.4057 - val_accuracy: 0.8125\n",
      "Epoch 13/20\n",
      "150/150 [==============================] - ETA: 0s - loss: 0.4106 - accuracy: 0.8087\n",
      "Epoch 00013: val_accuracy did not improve from 0.81250\n",
      "150/150 [==============================] - 70s 468ms/step - loss: 0.4106 - accuracy: 0.8087 - val_loss: 0.4209 - val_accuracy: 0.8083\n",
      "Epoch 14/20\n",
      "150/150 [==============================] - ETA: 0s - loss: 0.4020 - accuracy: 0.8150\n",
      "Epoch 00014: val_accuracy improved from 0.81250 to 0.81750, saving model to ./best_weights/vgg16_2\n",
      "INFO:tensorflow:Assets written to: ./best_weights/vgg16_2/assets\n",
      "150/150 [==============================] - 72s 480ms/step - loss: 0.4020 - accuracy: 0.8150 - val_loss: 0.4165 - val_accuracy: 0.8175\n",
      "Epoch 15/20\n",
      "150/150 [==============================] - ETA: 0s - loss: 0.3872 - accuracy: 0.8219\n",
      "Epoch 00015: val_accuracy did not improve from 0.81750\n",
      "150/150 [==============================] - 71s 471ms/step - loss: 0.3872 - accuracy: 0.8219 - val_loss: 0.4002 - val_accuracy: 0.8058\n",
      "Epoch 16/20\n",
      "150/150 [==============================] - ETA: 0s - loss: 0.3789 - accuracy: 0.8246\n",
      "Epoch 00016: val_accuracy improved from 0.81750 to 0.82417, saving model to ./best_weights/vgg16_2\n",
      "INFO:tensorflow:Assets written to: ./best_weights/vgg16_2/assets\n",
      "150/150 [==============================] - 73s 488ms/step - loss: 0.3789 - accuracy: 0.8246 - val_loss: 0.3825 - val_accuracy: 0.8242\n",
      "Epoch 17/20\n",
      "150/150 [==============================] - ETA: 0s - loss: 0.3774 - accuracy: 0.8269\n",
      "Epoch 00017: val_accuracy did not improve from 0.82417\n",
      "150/150 [==============================] - 74s 494ms/step - loss: 0.3774 - accuracy: 0.8269 - val_loss: 0.4569 - val_accuracy: 0.7825\n",
      "Epoch 18/20\n",
      "150/150 [==============================] - ETA: 0s - loss: 0.3731 - accuracy: 0.8277\n",
      "Epoch 00018: val_accuracy improved from 0.82417 to 0.83083, saving model to ./best_weights/vgg16_2\n",
      "INFO:tensorflow:Assets written to: ./best_weights/vgg16_2/assets\n",
      "150/150 [==============================] - 78s 522ms/step - loss: 0.3731 - accuracy: 0.8277 - val_loss: 0.3858 - val_accuracy: 0.8308\n",
      "Epoch 19/20\n",
      "150/150 [==============================] - ETA: 0s - loss: 0.3641 - accuracy: 0.8319\n",
      "Epoch 00019: val_accuracy did not improve from 0.83083\n",
      "150/150 [==============================] - 73s 488ms/step - loss: 0.3641 - accuracy: 0.8319 - val_loss: 0.4536 - val_accuracy: 0.8075\n",
      "Epoch 20/20\n",
      "150/150 [==============================] - ETA: 0s - loss: 0.3601 - accuracy: 0.8340\n",
      "Epoch 00020: val_accuracy improved from 0.83083 to 0.84500, saving model to ./best_weights/vgg16_2\n",
      "INFO:tensorflow:Assets written to: ./best_weights/vgg16_2/assets\n",
      "150/150 [==============================] - 76s 510ms/step - loss: 0.3601 - accuracy: 0.8340 - val_loss: 0.3892 - val_accuracy: 0.8450\n",
      "training time 1460.3803207874298\n",
      "32/32 [==============================] - 4s 135ms/step - loss: 0.6762 - accuracy: 0.6520\n",
      "loss and accuracy [0.6762085556983948, 0.6520000100135803]\n",
      "240/240 [==============================] - 23s 97ms/step\n",
      "50/50 [==============================] - 5s 96ms/step\n",
      "detailed report\n",
      "              precision    recall  f1-score   support\n",
      "\n",
      "           0       0.75      0.45      0.57       500\n",
      "           1       0.61      0.85      0.71       500\n",
      "\n",
      "    accuracy                           0.65      1000\n",
      "   macro avg       0.68      0.65      0.64      1000\n",
      "weighted avg       0.68      0.65      0.64      1000\n",
      "\n",
      "confusion matrix\n",
      "[[227 273]\n",
      " [ 75 425]]\n"
     ]
    },
    {
     "data": {
      "image/png": "[encoded data removed]",
      "text/plain": [
       "<Figure size 432x288 with 1 Axes>"
      ]
     },
     "metadata": {
      "needs_background": "light"
     },
     "output_type": "display_data"
    }
   ],
   "source": [
    "# vgg16, 7 trainable layers in base model\n",
    "y_pred_prob_train_vgg2, y_train_vgg2, y_pred_prob_vgg2 = individual_model(vgg16, VGG16, 'vgg16_2', X_train, y_train, X_test, y_test, min_delta = 0.00003, k = 7, epochs=20, batch_size=20, threshold=0.5, drop_rate=0.3, class_weight=None)\n"
   ]
  },
  {
   "cell_type": "code",
   "execution_count": 142,
   "metadata": {},
   "outputs": [
    {
     "name": "stdout",
     "output_type": "stream",
     "text": [
      "Epoch 1/20\n",
      "150/150 [==============================] - ETA: 0s - loss: 0.6578 - accuracy: 0.6098\n",
      "Epoch 00001: val_accuracy improved from -inf to 0.72417, saving model to ./best_weights/xception\n",
      "INFO:tensorflow:Assets written to: ./best_weights/xception/assets\n",
      "150/150 [==============================] - 43s 286ms/step - loss: 0.6578 - accuracy: 0.6098 - val_loss: 0.5801 - val_accuracy: 0.7242\n",
      "Epoch 2/20\n",
      "150/150 [==============================] - ETA: 0s - loss: 0.5830 - accuracy: 0.6992\n",
      "Epoch 00002: val_accuracy improved from 0.72417 to 0.73417, saving model to ./best_weights/xception\n",
      "INFO:tensorflow:Assets written to: ./best_weights/xception/assets\n",
      "150/150 [==============================] - 40s 264ms/step - loss: 0.5830 - accuracy: 0.6992 - val_loss: 0.5387 - val_accuracy: 0.7342\n",
      "Epoch 3/20\n",
      "150/150 [==============================] - ETA: 0s - loss: 0.5577 - accuracy: 0.7254\n",
      "Epoch 00003: val_accuracy improved from 0.73417 to 0.74333, saving model to ./best_weights/xception\n",
      "INFO:tensorflow:Assets written to: ./best_weights/xception/assets\n",
      "150/150 [==============================] - 41s 271ms/step - loss: 0.5577 - accuracy: 0.7254 - val_loss: 0.5145 - val_accuracy: 0.7433\n",
      "Epoch 4/20\n",
      "150/150 [==============================] - ETA: 0s - loss: 0.5462 - accuracy: 0.7271\n",
      "Epoch 00004: val_accuracy improved from 0.74333 to 0.75000, saving model to ./best_weights/xception\n",
      "INFO:tensorflow:Assets written to: ./best_weights/xception/assets\n",
      "150/150 [==============================] - 41s 273ms/step - loss: 0.5462 - accuracy: 0.7271 - val_loss: 0.5033 - val_accuracy: 0.7500\n",
      "Epoch 5/20\n",
      "150/150 [==============================] - ETA: 0s - loss: 0.5236 - accuracy: 0.7435\n",
      "Epoch 00005: val_accuracy improved from 0.75000 to 0.75250, saving model to ./best_weights/xception\n",
      "INFO:tensorflow:Assets written to: ./best_weights/xception/assets\n",
      "150/150 [==============================] - 41s 275ms/step - loss: 0.5236 - accuracy: 0.7435 - val_loss: 0.4948 - val_accuracy: 0.7525\n",
      "Epoch 6/20\n",
      "150/150 [==============================] - ETA: 0s - loss: 0.5195 - accuracy: 0.7465\n",
      "Epoch 00006: val_accuracy improved from 0.75250 to 0.75667, saving model to ./best_weights/xception\n",
      "INFO:tensorflow:Assets written to: ./best_weights/xception/assets\n",
      "150/150 [==============================] - 40s 265ms/step - loss: 0.5195 - accuracy: 0.7465 - val_loss: 0.4898 - val_accuracy: 0.7567\n",
      "Epoch 7/20\n",
      "150/150 [==============================] - ETA: 0s - loss: 0.5121 - accuracy: 0.7556\n",
      "Epoch 00007: val_accuracy improved from 0.75667 to 0.76083, saving model to ./best_weights/xception\n",
      "INFO:tensorflow:Assets written to: ./best_weights/xception/assets\n",
      "150/150 [==============================] - 36s 240ms/step - loss: 0.5121 - accuracy: 0.7556 - val_loss: 0.4829 - val_accuracy: 0.7608\n",
      "Epoch 8/20\n",
      "150/150 [==============================] - ETA: 0s - loss: 0.5036 - accuracy: 0.7556\n",
      "Epoch 00008: val_accuracy improved from 0.76083 to 0.76250, saving model to ./best_weights/xception\n",
      "INFO:tensorflow:Assets written to: ./best_weights/xception/assets\n",
      "150/150 [==============================] - 39s 259ms/step - loss: 0.5036 - accuracy: 0.7556 - val_loss: 0.4797 - val_accuracy: 0.7625\n",
      "Epoch 9/20\n",
      "150/150 [==============================] - ETA: 0s - loss: 0.4944 - accuracy: 0.7617\n",
      "Epoch 00009: val_accuracy improved from 0.76250 to 0.76417, saving model to ./best_weights/xception\n",
      "INFO:tensorflow:Assets written to: ./best_weights/xception/assets\n",
      "150/150 [==============================] - 37s 247ms/step - loss: 0.4944 - accuracy: 0.7617 - val_loss: 0.4778 - val_accuracy: 0.7642\n",
      "Epoch 10/20\n",
      "150/150 [==============================] - ETA: 0s - loss: 0.4918 - accuracy: 0.7631\n",
      "Epoch 00010: val_accuracy improved from 0.76417 to 0.77500, saving model to ./best_weights/xception\n",
      "INFO:tensorflow:Assets written to: ./best_weights/xception/assets\n",
      "150/150 [==============================] - 37s 249ms/step - loss: 0.4918 - accuracy: 0.7631 - val_loss: 0.4725 - val_accuracy: 0.7750\n",
      "Epoch 11/20\n",
      "150/150 [==============================] - ETA: 0s - loss: 0.4929 - accuracy: 0.7631\n",
      "Epoch 00011: val_accuracy did not improve from 0.77500\n",
      "150/150 [==============================] - 21s 142ms/step - loss: 0.4929 - accuracy: 0.7631 - val_loss: 0.4727 - val_accuracy: 0.7717\n",
      "Epoch 12/20\n",
      "150/150 [==============================] - ETA: 0s - loss: 0.4909 - accuracy: 0.7644\n",
      "Epoch 00012: val_accuracy improved from 0.77500 to 0.77833, saving model to ./best_weights/xception\n",
      "INFO:tensorflow:Assets written to: ./best_weights/xception/assets\n",
      "150/150 [==============================] - 37s 248ms/step - loss: 0.4909 - accuracy: 0.7644 - val_loss: 0.4698 - val_accuracy: 0.7783\n",
      "Epoch 13/20\n",
      "150/150 [==============================] - ETA: 0s - loss: 0.4820 - accuracy: 0.7660\n",
      "Epoch 00013: val_accuracy did not improve from 0.77833\n",
      "150/150 [==============================] - 21s 140ms/step - loss: 0.4820 - accuracy: 0.7660 - val_loss: 0.4672 - val_accuracy: 0.7733\n",
      "Epoch 14/20\n",
      "150/150 [==============================] - ETA: 0s - loss: 0.4843 - accuracy: 0.7729\n",
      "Epoch 00014: val_accuracy did not improve from 0.77833\n",
      "150/150 [==============================] - 21s 141ms/step - loss: 0.4843 - accuracy: 0.7729 - val_loss: 0.4655 - val_accuracy: 0.7742\n",
      "Epoch 15/20\n",
      "150/150 [==============================] - ETA: 0s - loss: 0.4824 - accuracy: 0.7727\n",
      "Epoch 00015: val_accuracy did not improve from 0.77833\n",
      "150/150 [==============================] - 21s 140ms/step - loss: 0.4824 - accuracy: 0.7727 - val_loss: 0.4638 - val_accuracy: 0.7708\n",
      "Epoch 16/20\n",
      "150/150 [==============================] - ETA: 0s - loss: 0.4781 - accuracy: 0.7790\n",
      "Epoch 00016: val_accuracy did not improve from 0.77833\n",
      "150/150 [==============================] - 21s 140ms/step - loss: 0.4781 - accuracy: 0.7790 - val_loss: 0.4616 - val_accuracy: 0.7733\n",
      "Epoch 17/20\n",
      "150/150 [==============================] - ETA: 0s - loss: 0.4821 - accuracy: 0.7681\n",
      "Epoch 00017: val_accuracy improved from 0.77833 to 0.77917, saving model to ./best_weights/xception\n",
      "INFO:tensorflow:Assets written to: ./best_weights/xception/assets\n",
      "150/150 [==============================] - 35s 235ms/step - loss: 0.4821 - accuracy: 0.7681 - val_loss: 0.4609 - val_accuracy: 0.7792\n",
      "Epoch 18/20\n",
      "150/150 [==============================] - ETA: 0s - loss: 0.4760 - accuracy: 0.7806\n",
      "Epoch 00018: val_accuracy improved from 0.77917 to 0.78083, saving model to ./best_weights/xception\n",
      "INFO:tensorflow:Assets written to: ./best_weights/xception/assets\n",
      "150/150 [==============================] - 37s 250ms/step - loss: 0.4760 - accuracy: 0.7806 - val_loss: 0.4631 - val_accuracy: 0.7808\n",
      "Epoch 19/20\n",
      "150/150 [==============================] - ETA: 0s - loss: 0.4737 - accuracy: 0.7788\n",
      "Epoch 00019: val_accuracy improved from 0.78083 to 0.78417, saving model to ./best_weights/xception\n",
      "INFO:tensorflow:Assets written to: ./best_weights/xception/assets\n",
      "150/150 [==============================] - 37s 244ms/step - loss: 0.4737 - accuracy: 0.7788 - val_loss: 0.4573 - val_accuracy: 0.7842\n",
      "Epoch 20/20\n",
      "150/150 [==============================] - ETA: 0s - loss: 0.4674 - accuracy: 0.7821\n",
      "Epoch 00020: val_accuracy did not improve from 0.78417\n",
      "150/150 [==============================] - 21s 139ms/step - loss: 0.4674 - accuracy: 0.7821 - val_loss: 0.4563 - val_accuracy: 0.7825\n",
      "training time 673.9549684524536\n",
      "32/32 [==============================] - 3s 85ms/step - loss: 0.7652 - accuracy: 0.5860\n",
      "loss and accuracy [0.7651541829109192, 0.5860000252723694]\n",
      "240/240 [==============================] - 16s 66ms/step\n",
      "50/50 [==============================] - 3s 64ms/step\n",
      "detailed report\n",
      "              precision    recall  f1-score   support\n",
      "\n",
      "           0       0.65      0.37      0.47       500\n",
      "           1       0.56      0.80      0.66       500\n",
      "\n",
      "    accuracy                           0.59      1000\n",
      "   macro avg       0.61      0.59      0.57      1000\n",
      "weighted avg       0.61      0.59      0.57      1000\n",
      "\n",
      "confusion matrix\n",
      "[[186 314]\n",
      " [100 400]]\n"
     ]
    },
    {
     "data": {
      "image/png": "[encoded data removed]",
      "text/plain": [
       "<Figure size 432x288 with 1 Axes>"
      ]
     },
     "metadata": {
      "needs_background": "light"
     },
     "output_type": "display_data"
    }
   ],
   "source": [
    "# xception, 0 trainable layers in base model\n",
    "y_pred_prob_train_xception1, y_train_xception1, y_pred_prob_xception1 = individual_model(xception, Xception, 'xception', X_train, y_train, X_test, y_test, min_delta = 0.00003, k = 0, epochs=20, batch_size=20, threshold=0.5, drop_rate=0.3, class_weight=None)"
   ]
  },
  {
   "cell_type": "code",
   "execution_count": 143,
   "metadata": {},
   "outputs": [
    {
     "name": "stdout",
     "output_type": "stream",
     "text": [
      "Epoch 1/20\n",
      "150/150 [==============================] - ETA: 0s - loss: 0.6861 - accuracy: 0.5610\n",
      "Epoch 00001: val_accuracy improved from -inf to 0.58833, saving model to ./best_weights/xception_2\n",
      "INFO:tensorflow:Assets written to: ./best_weights/xception_2/assets\n",
      "150/150 [==============================] - 45s 301ms/step - loss: 0.6861 - accuracy: 0.5610 - val_loss: 0.6622 - val_accuracy: 0.5883\n",
      "Epoch 2/20\n",
      "150/150 [==============================] - ETA: 0s - loss: 0.6517 - accuracy: 0.6540\n",
      "Epoch 00002: val_accuracy improved from 0.58833 to 0.73500, saving model to ./best_weights/xception_2\n",
      "INFO:tensorflow:Assets written to: ./best_weights/xception_2/assets\n",
      "150/150 [==============================] - 43s 287ms/step - loss: 0.6517 - accuracy: 0.6540 - val_loss: 0.6008 - val_accuracy: 0.7350\n",
      "Epoch 3/20\n",
      "150/150 [==============================] - ETA: 0s - loss: 0.6225 - accuracy: 0.7008\n",
      "Epoch 00003: val_accuracy improved from 0.73500 to 0.74500, saving model to ./best_weights/xception_2\n",
      "INFO:tensorflow:Assets written to: ./best_weights/xception_2/assets\n",
      "150/150 [==============================] - 46s 306ms/step - loss: 0.6225 - accuracy: 0.7008 - val_loss: 0.5778 - val_accuracy: 0.7450\n",
      "Epoch 4/20\n",
      "150/150 [==============================] - ETA: 0s - loss: 0.6016 - accuracy: 0.7210\n",
      "Epoch 00004: val_accuracy improved from 0.74500 to 0.74917, saving model to ./best_weights/xception_2\n",
      "INFO:tensorflow:Assets written to: ./best_weights/xception_2/assets\n",
      "150/150 [==============================] - 44s 294ms/step - loss: 0.6016 - accuracy: 0.7210 - val_loss: 0.5569 - val_accuracy: 0.7492\n",
      "Epoch 5/20\n",
      "150/150 [==============================] - ETA: 0s - loss: 0.5724 - accuracy: 0.7317\n",
      "Epoch 00005: val_accuracy did not improve from 0.74917\n",
      "150/150 [==============================] - 28s 187ms/step - loss: 0.5724 - accuracy: 0.7317 - val_loss: 0.5391 - val_accuracy: 0.7492\n",
      "Epoch 6/20\n",
      "150/150 [==============================] - ETA: 0s - loss: 0.5541 - accuracy: 0.7406\n",
      "Epoch 00006: val_accuracy improved from 0.74917 to 0.75167, saving model to ./best_weights/xception_2\n",
      "INFO:tensorflow:Assets written to: ./best_weights/xception_2/assets\n",
      "150/150 [==============================] - 45s 297ms/step - loss: 0.5541 - accuracy: 0.7406 - val_loss: 0.5218 - val_accuracy: 0.7517\n",
      "Epoch 7/20\n",
      "150/150 [==============================] - ETA: 0s - loss: 0.5382 - accuracy: 0.7481\n",
      "Epoch 00007: val_accuracy improved from 0.75167 to 0.76167, saving model to ./best_weights/xception_2\n",
      "INFO:tensorflow:Assets written to: ./best_weights/xception_2/assets\n",
      "150/150 [==============================] - 44s 292ms/step - loss: 0.5382 - accuracy: 0.7481 - val_loss: 0.5087 - val_accuracy: 0.7617\n",
      "Epoch 8/20\n",
      "150/150 [==============================] - ETA: 0s - loss: 0.5325 - accuracy: 0.7519\n",
      "Epoch 00008: val_accuracy improved from 0.76167 to 0.76250, saving model to ./best_weights/xception_2\n",
      "INFO:tensorflow:Assets written to: ./best_weights/xception_2/assets\n",
      "150/150 [==============================] - 42s 283ms/step - loss: 0.5325 - accuracy: 0.7519 - val_loss: 0.5003 - val_accuracy: 0.7625\n",
      "Epoch 9/20\n",
      "150/150 [==============================] - ETA: 0s - loss: 0.5174 - accuracy: 0.7585\n",
      "Epoch 00009: val_accuracy improved from 0.76250 to 0.76917, saving model to ./best_weights/xception_2\n",
      "INFO:tensorflow:Assets written to: ./best_weights/xception_2/assets\n",
      "150/150 [==============================] - 44s 292ms/step - loss: 0.5174 - accuracy: 0.7585 - val_loss: 0.4944 - val_accuracy: 0.7692\n",
      "Epoch 10/20\n",
      "150/150 [==============================] - ETA: 0s - loss: 0.5137 - accuracy: 0.7656\n",
      "Epoch 00010: val_accuracy did not improve from 0.76917\n",
      "150/150 [==============================] - 27s 180ms/step - loss: 0.5137 - accuracy: 0.7656 - val_loss: 0.4882 - val_accuracy: 0.7675\n",
      "Epoch 11/20\n",
      "150/150 [==============================] - ETA: 0s - loss: 0.5057 - accuracy: 0.7554\n",
      "Epoch 00011: val_accuracy did not improve from 0.76917\n",
      "150/150 [==============================] - 27s 181ms/step - loss: 0.5057 - accuracy: 0.7554 - val_loss: 0.4835 - val_accuracy: 0.7650\n",
      "Epoch 12/20\n",
      "150/150 [==============================] - ETA: 0s - loss: 0.5062 - accuracy: 0.7650\n",
      "Epoch 00012: val_accuracy improved from 0.76917 to 0.77000, saving model to ./best_weights/xception_2\n",
      "INFO:tensorflow:Assets written to: ./best_weights/xception_2/assets\n",
      "150/150 [==============================] - 43s 287ms/step - loss: 0.5062 - accuracy: 0.7650 - val_loss: 0.4786 - val_accuracy: 0.7700\n",
      "Epoch 13/20\n",
      "150/150 [==============================] - ETA: 0s - loss: 0.5009 - accuracy: 0.7685\n",
      "Epoch 00013: val_accuracy did not improve from 0.77000\n",
      "150/150 [==============================] - 27s 181ms/step - loss: 0.5009 - accuracy: 0.7685 - val_loss: 0.4760 - val_accuracy: 0.7692\n",
      "Epoch 14/20\n",
      "150/150 [==============================] - ETA: 0s - loss: 0.4943 - accuracy: 0.7713\n",
      "Epoch 00014: val_accuracy did not improve from 0.77000\n",
      "150/150 [==============================] - 27s 181ms/step - loss: 0.4943 - accuracy: 0.7713 - val_loss: 0.4723 - val_accuracy: 0.7683\n",
      "Epoch 15/20\n",
      "150/150 [==============================] - ETA: 0s - loss: 0.4891 - accuracy: 0.7738\n",
      "Epoch 00015: val_accuracy did not improve from 0.77000\n",
      "150/150 [==============================] - 27s 180ms/step - loss: 0.4891 - accuracy: 0.7738 - val_loss: 0.4694 - val_accuracy: 0.7658\n",
      "Epoch 16/20\n",
      "150/150 [==============================] - ETA: 0s - loss: 0.4938 - accuracy: 0.7700\n",
      "Epoch 00016: val_accuracy improved from 0.77000 to 0.77750, saving model to ./best_weights/xception_2\n",
      "INFO:tensorflow:Assets written to: ./best_weights/xception_2/assets\n",
      "150/150 [==============================] - 44s 293ms/step - loss: 0.4938 - accuracy: 0.7700 - val_loss: 0.4672 - val_accuracy: 0.7775\n",
      "Epoch 17/20\n",
      "150/150 [==============================] - ETA: 0s - loss: 0.4859 - accuracy: 0.7731\n",
      "Epoch 00017: val_accuracy improved from 0.77750 to 0.78083, saving model to ./best_weights/xception_2\n",
      "INFO:tensorflow:Assets written to: ./best_weights/xception_2/assets\n",
      "150/150 [==============================] - 43s 287ms/step - loss: 0.4859 - accuracy: 0.7731 - val_loss: 0.4671 - val_accuracy: 0.7808\n",
      "Epoch 18/20\n",
      "150/150 [==============================] - ETA: 0s - loss: 0.4814 - accuracy: 0.7702\n",
      "Epoch 00018: val_accuracy did not improve from 0.78083\n",
      "150/150 [==============================] - 27s 179ms/step - loss: 0.4814 - accuracy: 0.7702 - val_loss: 0.4610 - val_accuracy: 0.7792\n",
      "Epoch 19/20\n",
      "150/150 [==============================] - ETA: 0s - loss: 0.4750 - accuracy: 0.7785\n",
      "Epoch 00019: val_accuracy did not improve from 0.78083\n",
      "150/150 [==============================] - 28s 184ms/step - loss: 0.4750 - accuracy: 0.7785 - val_loss: 0.4587 - val_accuracy: 0.7742\n",
      "Epoch 20/20\n",
      "150/150 [==============================] - ETA: 0s - loss: 0.4761 - accuracy: 0.7775\n",
      "Epoch 00020: val_accuracy did not improve from 0.78083\n",
      "150/150 [==============================] - 27s 180ms/step - loss: 0.4761 - accuracy: 0.7775 - val_loss: 0.4577 - val_accuracy: 0.7792\n",
      "training time 734.8332531452179\n",
      "32/32 [==============================] - 3s 83ms/step - loss: 0.7581 - accuracy: 0.5850\n",
      "loss and accuracy [0.7581257820129395, 0.5849999785423279]\n",
      "240/240 [==============================] - 15s 61ms/step\n",
      "50/50 [==============================] - 3s 61ms/step\n",
      "detailed report\n",
      "              precision    recall  f1-score   support\n",
      "\n",
      "           0       0.65      0.36      0.47       500\n",
      "           1       0.56      0.81      0.66       500\n",
      "\n",
      "    accuracy                           0.58      1000\n",
      "   macro avg       0.61      0.58      0.56      1000\n",
      "weighted avg       0.61      0.58      0.56      1000\n",
      "\n",
      "confusion matrix\n",
      "[[181 319]\n",
      " [ 96 404]]\n"
     ]
    },
    {
     "data": {
      "image/png": "[encoded data removed]",
      "text/plain": [
       "<Figure size 432x288 with 1 Axes>"
      ]
     },
     "metadata": {
      "needs_background": "light"
     },
     "output_type": "display_data"
    }
   ],
   "source": [
    "# xception, 7 trainable layers in base model\n",
    "y_pred_prob_train_xception2, y_train_xception2, y_pred_prob_xception2 = individual_model(xception, Xception, 'xception_2', X_train, y_train, X_test, y_test, min_delta = 0.00003, k = 7, epochs=20, batch_size=20, threshold=0.5, drop_rate=0.3, class_weight=None)"
   ]
  },
  {
   "cell_type": "code",
   "execution_count": 144,
   "metadata": {},
   "outputs": [
    {
     "name": "stdout",
     "output_type": "stream",
     "text": [
      "Epoch 1/20\n",
      "150/150 [==============================] - ETA: 0s - loss: 0.6944 - accuracy: 0.6317\n",
      "Epoch 00001: val_accuracy improved from -inf to 0.72833, saving model to ./best_weights/densenet\n",
      "INFO:tensorflow:Assets written to: ./best_weights/densenet/assets\n",
      "150/150 [==============================] - 69s 460ms/step - loss: 0.6944 - accuracy: 0.6317 - val_loss: 0.5319 - val_accuracy: 0.7283\n",
      "Epoch 2/20\n",
      "150/150 [==============================] - ETA: 0s - loss: 0.5845 - accuracy: 0.6994\n",
      "Epoch 00002: val_accuracy improved from 0.72833 to 0.73833, saving model to ./best_weights/densenet\n",
      "INFO:tensorflow:Assets written to: ./best_weights/densenet/assets\n",
      "150/150 [==============================] - 67s 446ms/step - loss: 0.5845 - accuracy: 0.6994 - val_loss: 0.5151 - val_accuracy: 0.7383\n",
      "Epoch 3/20\n",
      "150/150 [==============================] - ETA: 0s - loss: 0.5568 - accuracy: 0.7217\n",
      "Epoch 00003: val_accuracy improved from 0.73833 to 0.74083, saving model to ./best_weights/densenet\n",
      "INFO:tensorflow:Assets written to: ./best_weights/densenet/assets\n",
      "150/150 [==============================] - 68s 454ms/step - loss: 0.5568 - accuracy: 0.7217 - val_loss: 0.5046 - val_accuracy: 0.7408\n",
      "Epoch 4/20\n",
      "150/150 [==============================] - ETA: 0s - loss: 0.5512 - accuracy: 0.7221\n",
      "Epoch 00004: val_accuracy improved from 0.74083 to 0.74917, saving model to ./best_weights/densenet\n",
      "INFO:tensorflow:Assets written to: ./best_weights/densenet/assets\n",
      "150/150 [==============================] - 71s 476ms/step - loss: 0.5512 - accuracy: 0.7221 - val_loss: 0.4984 - val_accuracy: 0.7492\n",
      "Epoch 5/20\n",
      "150/150 [==============================] - ETA: 0s - loss: 0.5281 - accuracy: 0.7467\n",
      "Epoch 00005: val_accuracy improved from 0.74917 to 0.75083, saving model to ./best_weights/densenet\n",
      "INFO:tensorflow:Assets written to: ./best_weights/densenet/assets\n",
      "150/150 [==============================] - 66s 441ms/step - loss: 0.5281 - accuracy: 0.7467 - val_loss: 0.4961 - val_accuracy: 0.7508\n",
      "Epoch 6/20\n",
      "150/150 [==============================] - ETA: 0s - loss: 0.5301 - accuracy: 0.7458\n",
      "Epoch 00006: val_accuracy improved from 0.75083 to 0.75583, saving model to ./best_weights/densenet\n",
      "INFO:tensorflow:Assets written to: ./best_weights/densenet/assets\n",
      "150/150 [==============================] - 72s 477ms/step - loss: 0.5301 - accuracy: 0.7458 - val_loss: 0.4875 - val_accuracy: 0.7558\n",
      "Epoch 7/20\n",
      "150/150 [==============================] - ETA: 0s - loss: 0.5126 - accuracy: 0.7535\n",
      "Epoch 00007: val_accuracy improved from 0.75583 to 0.75750, saving model to ./best_weights/densenet\n",
      "INFO:tensorflow:Assets written to: ./best_weights/densenet/assets\n",
      "150/150 [==============================] - 66s 438ms/step - loss: 0.5126 - accuracy: 0.7535 - val_loss: 0.4857 - val_accuracy: 0.7575\n",
      "Epoch 8/20\n",
      "150/150 [==============================] - ETA: 0s - loss: 0.5168 - accuracy: 0.7460\n",
      "Epoch 00008: val_accuracy improved from 0.75750 to 0.76167, saving model to ./best_weights/densenet\n",
      "INFO:tensorflow:Assets written to: ./best_weights/densenet/assets\n",
      "150/150 [==============================] - 70s 469ms/step - loss: 0.5168 - accuracy: 0.7460 - val_loss: 0.4799 - val_accuracy: 0.7617\n",
      "Epoch 9/20\n",
      "150/150 [==============================] - ETA: 0s - loss: 0.5079 - accuracy: 0.7517\n",
      "Epoch 00009: val_accuracy did not improve from 0.76167\n",
      "150/150 [==============================] - 23s 154ms/step - loss: 0.5079 - accuracy: 0.7517 - val_loss: 0.4792 - val_accuracy: 0.7608\n",
      "Epoch 10/20\n",
      "150/150 [==============================] - ETA: 0s - loss: 0.4993 - accuracy: 0.7598\n",
      "Epoch 00010: val_accuracy improved from 0.76167 to 0.77083, saving model to ./best_weights/densenet\n",
      "INFO:tensorflow:Assets written to: ./best_weights/densenet/assets\n",
      "150/150 [==============================] - 66s 443ms/step - loss: 0.4993 - accuracy: 0.7598 - val_loss: 0.4744 - val_accuracy: 0.7708\n",
      "Epoch 11/20\n",
      "150/150 [==============================] - ETA: 0s - loss: 0.4940 - accuracy: 0.7583\n",
      "Epoch 00011: val_accuracy did not improve from 0.77083\n",
      "150/150 [==============================] - 23s 152ms/step - loss: 0.4940 - accuracy: 0.7583 - val_loss: 0.4687 - val_accuracy: 0.7617\n",
      "Epoch 12/20\n",
      "150/150 [==============================] - ETA: 0s - loss: 0.4913 - accuracy: 0.7650\n",
      "Epoch 00012: val_accuracy did not improve from 0.77083\n",
      "150/150 [==============================] - 23s 152ms/step - loss: 0.4913 - accuracy: 0.7650 - val_loss: 0.4678 - val_accuracy: 0.7708\n",
      "Epoch 13/20\n",
      "150/150 [==============================] - ETA: 0s - loss: 0.4826 - accuracy: 0.7733\n",
      "Epoch 00013: val_accuracy improved from 0.77083 to 0.78250, saving model to ./best_weights/densenet\n",
      "INFO:tensorflow:Assets written to: ./best_weights/densenet/assets\n",
      "150/150 [==============================] - 71s 470ms/step - loss: 0.4826 - accuracy: 0.7733 - val_loss: 0.4643 - val_accuracy: 0.7825\n",
      "Epoch 14/20\n",
      "150/150 [==============================] - ETA: 0s - loss: 0.4810 - accuracy: 0.7694\n",
      "Epoch 00014: val_accuracy did not improve from 0.78250\n",
      "150/150 [==============================] - 23s 154ms/step - loss: 0.4810 - accuracy: 0.7694 - val_loss: 0.4625 - val_accuracy: 0.7692\n",
      "Epoch 15/20\n",
      "150/150 [==============================] - ETA: 0s - loss: 0.4786 - accuracy: 0.7696\n",
      "Epoch 00015: val_accuracy improved from 0.78250 to 0.78417, saving model to ./best_weights/densenet\n",
      "INFO:tensorflow:Assets written to: ./best_weights/densenet/assets\n",
      "150/150 [==============================] - 71s 471ms/step - loss: 0.4786 - accuracy: 0.7696 - val_loss: 0.4616 - val_accuracy: 0.7842\n",
      "Epoch 16/20\n",
      "150/150 [==============================] - ETA: 0s - loss: 0.4764 - accuracy: 0.7715\n",
      "Epoch 00016: val_accuracy did not improve from 0.78417\n",
      "150/150 [==============================] - 23s 154ms/step - loss: 0.4764 - accuracy: 0.7715 - val_loss: 0.4625 - val_accuracy: 0.7825\n",
      "Epoch 17/20\n",
      "150/150 [==============================] - ETA: 0s - loss: 0.4706 - accuracy: 0.7769\n",
      "Epoch 00017: val_accuracy did not improve from 0.78417\n",
      "150/150 [==============================] - 23s 152ms/step - loss: 0.4706 - accuracy: 0.7769 - val_loss: 0.4610 - val_accuracy: 0.7792\n",
      "Epoch 18/20\n",
      "150/150 [==============================] - ETA: 0s - loss: 0.4769 - accuracy: 0.7688\n",
      "Epoch 00018: val_accuracy improved from 0.78417 to 0.79000, saving model to ./best_weights/densenet\n",
      "INFO:tensorflow:Assets written to: ./best_weights/densenet/assets\n",
      "150/150 [==============================] - 69s 462ms/step - loss: 0.4769 - accuracy: 0.7688 - val_loss: 0.4542 - val_accuracy: 0.7900\n",
      "Epoch 19/20\n",
      "150/150 [==============================] - ETA: 0s - loss: 0.4628 - accuracy: 0.7713\n",
      "Epoch 00019: val_accuracy improved from 0.79000 to 0.79083, saving model to ./best_weights/densenet\n",
      "INFO:tensorflow:Assets written to: ./best_weights/densenet/assets\n",
      "150/150 [==============================] - 69s 462ms/step - loss: 0.4628 - accuracy: 0.7713 - val_loss: 0.4560 - val_accuracy: 0.7908\n",
      "Epoch 20/20\n",
      "150/150 [==============================] - ETA: 0s - loss: 0.4636 - accuracy: 0.7812\n",
      "Epoch 00020: val_accuracy did not improve from 0.79083\n",
      "150/150 [==============================] - 23s 152ms/step - loss: 0.4636 - accuracy: 0.7812 - val_loss: 0.4515 - val_accuracy: 0.7892\n",
      "training time 1065.6567225456238\n",
      "32/32 [==============================] - 3s 104ms/step - loss: 0.7049 - accuracy: 0.6060\n",
      "loss and accuracy [0.7048950791358948, 0.6060000061988831]\n",
      "240/240 [==============================] - 21s 88ms/step\n",
      "50/50 [==============================] - 4s 86ms/step\n",
      "detailed report\n",
      "              precision    recall  f1-score   support\n",
      "\n",
      "           0       0.72      0.34      0.47       500\n",
      "           1       0.57      0.87      0.69       500\n",
      "\n",
      "    accuracy                           0.61      1000\n",
      "   macro avg       0.65      0.61      0.58      1000\n",
      "weighted avg       0.65      0.61      0.58      1000\n",
      "\n",
      "confusion matrix\n",
      "[[172 328]\n",
      " [ 66 434]]\n"
     ]
    },
    {
     "data": {
      "image/png": "[encoded data removed]",
      "text/plain": [
       "<Figure size 432x288 with 1 Axes>"
      ]
     },
     "metadata": {
      "needs_background": "light"
     },
     "output_type": "display_data"
    }
   ],
   "source": [
    "# densenet, 0 trainable layers in base model\n",
    "y_pred_prob_train_densenet1, y_train_densenet1, y_pred_prob_densenet1 = individual_model(densenet, DenseNet121, 'densenet', X_train, y_train, X_test, y_test, min_delta = 0.00003, k = 0, epochs=20, batch_size=20, threshold=0.5, drop_rate=0.3, class_weight=None)"
   ]
  },
  {
   "cell_type": "code",
   "execution_count": 145,
   "metadata": {},
   "outputs": [
    {
     "name": "stdout",
     "output_type": "stream",
     "text": [
      "Epoch 1/20\n",
      "150/150 [==============================] - ETA: 0s - loss: 0.6708 - accuracy: 0.6521\n",
      "Epoch 00001: val_accuracy improved from -inf to 0.73917, saving model to ./best_weights/densenet_2\n",
      "INFO:tensorflow:Assets written to: ./best_weights/densenet_2/assets\n",
      "150/150 [==============================] - 74s 492ms/step - loss: 0.6708 - accuracy: 0.6521 - val_loss: 0.5260 - val_accuracy: 0.7392\n",
      "Epoch 2/20\n",
      "150/150 [==============================] - ETA: 0s - loss: 0.5965 - accuracy: 0.7067\n",
      "Epoch 00002: val_accuracy improved from 0.73917 to 0.75167, saving model to ./best_weights/densenet_2\n",
      "INFO:tensorflow:Assets written to: ./best_weights/densenet_2/assets\n",
      "150/150 [==============================] - 70s 464ms/step - loss: 0.5965 - accuracy: 0.7067 - val_loss: 0.4930 - val_accuracy: 0.7517\n",
      "Epoch 3/20\n",
      "150/150 [==============================] - ETA: 0s - loss: 0.5604 - accuracy: 0.7231\n",
      "Epoch 00003: val_accuracy improved from 0.75167 to 0.76500, saving model to ./best_weights/densenet_2\n",
      "INFO:tensorflow:Assets written to: ./best_weights/densenet_2/assets\n",
      "150/150 [==============================] - 69s 459ms/step - loss: 0.5604 - accuracy: 0.7231 - val_loss: 0.4852 - val_accuracy: 0.7650\n",
      "Epoch 4/20\n",
      "150/150 [==============================] - ETA: 0s - loss: 0.5370 - accuracy: 0.7385\n",
      "Epoch 00004: val_accuracy improved from 0.76500 to 0.76583, saving model to ./best_weights/densenet_2\n",
      "INFO:tensorflow:Assets written to: ./best_weights/densenet_2/assets\n",
      "150/150 [==============================] - 74s 490ms/step - loss: 0.5370 - accuracy: 0.7385 - val_loss: 0.4721 - val_accuracy: 0.7658\n",
      "Epoch 5/20\n",
      "150/150 [==============================] - ETA: 0s - loss: 0.5234 - accuracy: 0.7450\n",
      "Epoch 00005: val_accuracy improved from 0.76583 to 0.76750, saving model to ./best_weights/densenet_2\n",
      "INFO:tensorflow:Assets written to: ./best_weights/densenet_2/assets\n",
      "150/150 [==============================] - 74s 490ms/step - loss: 0.5234 - accuracy: 0.7450 - val_loss: 0.4826 - val_accuracy: 0.7675\n",
      "Epoch 6/20\n",
      "150/150 [==============================] - ETA: 0s - loss: 0.5095 - accuracy: 0.7569\n",
      "Epoch 00006: val_accuracy improved from 0.76750 to 0.77667, saving model to ./best_weights/densenet_2\n",
      "INFO:tensorflow:Assets written to: ./best_weights/densenet_2/assets\n",
      "150/150 [==============================] - 69s 462ms/step - loss: 0.5095 - accuracy: 0.7569 - val_loss: 0.4632 - val_accuracy: 0.7767\n",
      "Epoch 7/20\n",
      "150/150 [==============================] - ETA: 0s - loss: 0.5052 - accuracy: 0.7490\n",
      "Epoch 00007: val_accuracy improved from 0.77667 to 0.78250, saving model to ./best_weights/densenet_2\n",
      "INFO:tensorflow:Assets written to: ./best_weights/densenet_2/assets\n",
      "150/150 [==============================] - 70s 466ms/step - loss: 0.5052 - accuracy: 0.7490 - val_loss: 0.4574 - val_accuracy: 0.7825\n",
      "Epoch 8/20\n",
      "150/150 [==============================] - ETA: 0s - loss: 0.4956 - accuracy: 0.7531\n",
      "Epoch 00008: val_accuracy improved from 0.78250 to 0.79000, saving model to ./best_weights/densenet_2\n",
      "INFO:tensorflow:Assets written to: ./best_weights/densenet_2/assets\n",
      "150/150 [==============================] - 70s 464ms/step - loss: 0.4956 - accuracy: 0.7531 - val_loss: 0.4541 - val_accuracy: 0.7900\n",
      "Epoch 9/20\n",
      "150/150 [==============================] - ETA: 0s - loss: 0.4925 - accuracy: 0.7625\n",
      "Epoch 00009: val_accuracy improved from 0.79000 to 0.79083, saving model to ./best_weights/densenet_2\n",
      "INFO:tensorflow:Assets written to: ./best_weights/densenet_2/assets\n",
      "150/150 [==============================] - 74s 490ms/step - loss: 0.4925 - accuracy: 0.7625 - val_loss: 0.4550 - val_accuracy: 0.7908\n",
      "Epoch 10/20\n",
      "150/150 [==============================] - ETA: 0s - loss: 0.4768 - accuracy: 0.7744\n",
      "Epoch 00010: val_accuracy did not improve from 0.79083\n",
      "150/150 [==============================] - 26s 170ms/step - loss: 0.4768 - accuracy: 0.7744 - val_loss: 0.4569 - val_accuracy: 0.7908\n",
      "Epoch 11/20\n",
      "150/150 [==============================] - ETA: 0s - loss: 0.4810 - accuracy: 0.7719\n",
      "Epoch 00011: val_accuracy improved from 0.79083 to 0.79417, saving model to ./best_weights/densenet_2\n",
      "INFO:tensorflow:Assets written to: ./best_weights/densenet_2/assets\n",
      "150/150 [==============================] - 73s 490ms/step - loss: 0.4810 - accuracy: 0.7719 - val_loss: 0.4482 - val_accuracy: 0.7942\n",
      "Epoch 12/20\n",
      "150/150 [==============================] - ETA: 0s - loss: 0.4746 - accuracy: 0.7721\n",
      "Epoch 00012: val_accuracy improved from 0.79417 to 0.79917, saving model to ./best_weights/densenet_2\n",
      "INFO:tensorflow:Assets written to: ./best_weights/densenet_2/assets\n",
      "150/150 [==============================] - 69s 458ms/step - loss: 0.4746 - accuracy: 0.7721 - val_loss: 0.4422 - val_accuracy: 0.7992\n",
      "Epoch 13/20\n",
      "150/150 [==============================] - ETA: 0s - loss: 0.4661 - accuracy: 0.7802\n",
      "Epoch 00013: val_accuracy improved from 0.79917 to 0.80083, saving model to ./best_weights/densenet_2\n",
      "INFO:tensorflow:Assets written to: ./best_weights/densenet_2/assets\n",
      "150/150 [==============================] - 73s 485ms/step - loss: 0.4661 - accuracy: 0.7802 - val_loss: 0.4410 - val_accuracy: 0.8008\n",
      "Epoch 14/20\n",
      "150/150 [==============================] - ETA: 0s - loss: 0.4588 - accuracy: 0.7779\n",
      "Epoch 00014: val_accuracy did not improve from 0.80083\n",
      "150/150 [==============================] - 26s 172ms/step - loss: 0.4588 - accuracy: 0.7779 - val_loss: 0.4375 - val_accuracy: 0.7975\n",
      "Epoch 15/20\n",
      "150/150 [==============================] - ETA: 0s - loss: 0.4563 - accuracy: 0.7804\n",
      "Epoch 00015: val_accuracy did not improve from 0.80083\n",
      "150/150 [==============================] - 26s 175ms/step - loss: 0.4563 - accuracy: 0.7804 - val_loss: 0.4355 - val_accuracy: 0.8000\n",
      "Epoch 16/20\n",
      "150/150 [==============================] - ETA: 0s - loss: 0.4535 - accuracy: 0.7869\n",
      "Epoch 00016: val_accuracy did not improve from 0.80083\n",
      "150/150 [==============================] - 26s 174ms/step - loss: 0.4535 - accuracy: 0.7869 - val_loss: 0.4357 - val_accuracy: 0.8000\n",
      "Epoch 17/20\n",
      "150/150 [==============================] - ETA: 0s - loss: 0.4480 - accuracy: 0.7865\n",
      "Epoch 00017: val_accuracy did not improve from 0.80083\n",
      "150/150 [==============================] - 26s 171ms/step - loss: 0.4480 - accuracy: 0.7865 - val_loss: 0.4331 - val_accuracy: 0.8000\n",
      "Epoch 18/20\n",
      "150/150 [==============================] - ETA: 0s - loss: 0.4477 - accuracy: 0.7942\n",
      "Epoch 00018: val_accuracy improved from 0.80083 to 0.80417, saving model to ./best_weights/densenet_2\n",
      "INFO:tensorflow:Assets written to: ./best_weights/densenet_2/assets\n",
      "150/150 [==============================] - 70s 464ms/step - loss: 0.4477 - accuracy: 0.7942 - val_loss: 0.4298 - val_accuracy: 0.8042\n",
      "Epoch 19/20\n",
      "150/150 [==============================] - ETA: 0s - loss: 0.4447 - accuracy: 0.7850\n",
      "Epoch 00019: val_accuracy did not improve from 0.80417\n",
      "150/150 [==============================] - 26s 173ms/step - loss: 0.4447 - accuracy: 0.7850 - val_loss: 0.4294 - val_accuracy: 0.8000\n",
      "Epoch 20/20\n",
      "150/150 [==============================] - ETA: 0s - loss: 0.4457 - accuracy: 0.7954\n",
      "Epoch 00020: val_accuracy improved from 0.80417 to 0.80667, saving model to ./best_weights/densenet_2\n",
      "INFO:tensorflow:Assets written to: ./best_weights/densenet_2/assets\n",
      "150/150 [==============================] - 71s 475ms/step - loss: 0.4457 - accuracy: 0.7954 - val_loss: 0.4256 - val_accuracy: 0.8067\n",
      "training time 1162.5787949562073\n",
      "32/32 [==============================] - 3s 107ms/step - loss: 0.6867 - accuracy: 0.6000\n",
      "loss and accuracy [0.6867461204528809, 0.6000000238418579]\n",
      "240/240 [==============================] - 21s 89ms/step\n",
      "50/50 [==============================] - 4s 90ms/step\n",
      "detailed report\n",
      "              precision    recall  f1-score   support\n",
      "\n",
      "           0       0.66      0.41      0.50       500\n",
      "           1       0.57      0.79      0.66       500\n",
      "\n",
      "    accuracy                           0.60      1000\n",
      "   macro avg       0.62      0.60      0.58      1000\n",
      "weighted avg       0.62      0.60      0.58      1000\n",
      "\n",
      "confusion matrix\n",
      "[[203 297]\n",
      " [103 397]]\n"
     ]
    },
    {
     "data": {
      "image/png": "[encoded data removed]",
      "text/plain": [
       "<Figure size 432x288 with 1 Axes>"
      ]
     },
     "metadata": {
      "needs_background": "light"
     },
     "output_type": "display_data"
    }
   ],
   "source": [
    "# densenet, 7 trainable layers in base model\n",
    "y_pred_prob_train_densenet2, y_train_densenet2, y_pred_prob_densenet2 = individual_model(densenet, DenseNet121, 'densenet_2', X_train, y_train, X_test, y_test, min_delta = 0.00003, k = 7, epochs=20, batch_size=20, threshold=0.5, drop_rate=0.3, class_weight=None)"
   ]
  },
  {
   "cell_type": "markdown",
   "metadata": {},
   "source": [
    "## Traditional ML"
   ]
  },
  {
   "cell_type": "code",
   "execution_count": 170,
   "metadata": {},
   "outputs": [],
   "source": [
    "# reference: https://colab.research.google.com/drive/1OPKdqvyUyFQ9gCOto2dGqc5z9AdtoVIN\n",
    "\n",
    "# transform the data with pca\n",
    "def pca(X_train, X_test, n):\n",
    "    pca = PCA(n_components=n)\n",
    "    X_train_pca = pca.fit_transform(X_train)\n",
    "    X_test_pca = pca.transform(X_test)\n",
    "    return X_train_pca, X_test_pca\n",
    "\n",
    "# transform the data with lda\n",
    "def lda(X_train, X_test, y_train):\n",
    "    lda = LinearDiscriminantAnalysis(solver='eigen', shrinkage=0.5)\n",
    "    X_train_lda = lda.fit_transform(X_train, y_train)\n",
    "    X_test_lda = lda.transform(X_test)\n",
    "    return X_train_lda, X_test_lda\n",
    "\n",
    "# logistic regression\n",
    "def logistic_regression(X_train, X_test, y_train, y_test, threshold=0.5):\n",
    "    start = time.time()\n",
    "    # build the model\n",
    "    lr = LogisticRegressionCV(solver='liblinear')\n",
    "    # fit the model\n",
    "    lr.fit(X_train, y_train)\n",
    "    print('running time: ', time.time()-start)\n",
    "    # predict with train and test data\n",
    "    y_train_pred = lr.predict(X_train)\n",
    "    y_test_pred = np.where(lr.predict_proba(X_test)[:,1] > threshold, 1, 0)\n",
    "    # print the results\n",
    "    print('accuracy for train: ', accuracy_score(y_train, y_train_pred))\n",
    "    print('accuracy for test: ', accuracy_score(y_test, y_test_pred))\n",
    "    print('confusion matrix: ', confusion_matrix(y_test, y_test_pred))\n",
    "    return lr.predict_proba(X_train), lr.predict_proba(X_test)\n",
    "\n",
    "def rfc(X_train, X_test, y_train, y_test):\n",
    "    # cross validation for random forest classifier\n",
    "    param_grid = { \n",
    "        'n_estimators': [200, 500],\n",
    "        'max_features': ['auto', 'sqrt', 'log2'],\n",
    "        'max_depth' : [4,5,6,7,8],\n",
    "        'criterion' :['gini', 'entropy']\n",
    "    }\n",
    "\n",
    "    rfc_ = RandomForestClassifier(random_state=123)\n",
    "    grc = GridSearchCV(rfc_, param_grid=param_grid, cv=7)\n",
    "    grc.fit(X_train_lda, y_train)\n",
    "    params = grc.best_params_\n",
    "\n",
    "    # build random forest classifier\n",
    "    rfc = RandomForestClassifier(random_state=123, max_features=params['max_features'],\\\n",
    "                                 n_estimators= params['n_estimators'], max_depth=params['max_depth'], criterion=params['criterion'])\n",
    "    # fit the model\n",
    "    rfc.fit(X_train, y_train)\n",
    "    # predict on train and test\n",
    "    y_train_pred = rfc.predict(X_train)\n",
    "    y_test_pred = rfc.predict(X_test)\n",
    "    \n",
    "    print('accuracy for train: ', accuracy_score(y_train, y_train_pred))\n",
    "    print('accuracy for test: ', accuracy_score(y_test, y_test_pred))\n",
    "    return rfc.predict_proba(X_train), rfc.predict_proba(X_test)"
   ]
  },
  {
   "cell_type": "code",
   "execution_count": 110,
   "metadata": {},
   "outputs": [],
   "source": [
    "# flatten data\n",
    "X_train_flatten = np.array([X_train[i].flatten() for i in range(len(X_train))])\n",
    "X_test_flatten = np.array([X_test[i].flatten() for i in range(len(X_test))])"
   ]
  },
  {
   "cell_type": "code",
   "execution_count": 112,
   "metadata": {},
   "outputs": [],
   "source": [
    "# transform data with pca and lda\n",
    "X_train_pca, X_test_pca = pca(X_train_flatten, X_test_flatten, 50)\n",
    "X_train_lda, X_test_lda = lda(X_train_flatten, X_test_flatten, y_train.ravel())"
   ]
  },
  {
   "cell_type": "code",
   "execution_count": 172,
   "metadata": {},
   "outputs": [
    {
     "name": "stdout",
     "output_type": "stream",
     "text": [
      "running time:  10.490171194076538\n",
      "accuracy for train:  0.7741666666666667\n",
      "accuracy for test:  0.598\n",
      "confusion matrix:  [[198 302]\n",
      " [100 400]]\n"
     ]
    }
   ],
   "source": [
    "# linear regression on pca-transformed data\n",
    "y_pred_prob_pca_lr_train,  y_pred_prob_pca_lr_test = logistic_regression(X_train_pca, X_test_pca, y_train.ravel(), y_test.ravel(), threshold = 0.5)"
   ]
  },
  {
   "cell_type": "code",
   "execution_count": 151,
   "metadata": {},
   "outputs": [
    {
     "name": "stdout",
     "output_type": "stream",
     "text": [
      "running time:  0.20975112915039062\n",
      "accuracy for train:  0.897\n",
      "accuracy for test:  0.59\n",
      "confusion matrix:  [[237 263]\n",
      " [147 353]]\n"
     ]
    }
   ],
   "source": [
    "# linear regression on lda-transformed data\n",
    "y_pred_prob_lda_lr_train,  y_pred_prob_lda_lr_test = logistic_regression(X_train_lda, X_test_lda, y_train.ravel(), y_test.ravel(), , threshold = 0.5)"
   ]
  },
  {
   "cell_type": "code",
   "execution_count": 138,
   "metadata": {},
   "outputs": [
    {
     "name": "stdout",
     "output_type": "stream",
     "text": [
      "accuracy for train:  0.8736666666666667\n",
      "accuracy for test:  0.588\n"
     ]
    }
   ],
   "source": [
    "# random forest classifier on pca-transformed data\n",
    "y_pred_prob_pca_rfc_train,  y_pred_prob_pca_rfc_test = rfc(X_train_pca, X_test_pca, y_train.ravel(), y_test.ravel())"
   ]
  },
  {
   "cell_type": "markdown",
   "metadata": {},
   "source": [
    "## Combined outputs"
   ]
  },
  {
   "cell_type": "code",
   "execution_count": 159,
   "metadata": {},
   "outputs": [
    {
     "data": {
      "text/plain": [
       "array([[0.01843482, 0.00233519, 0.05363039],\n",
       "       [0.04834813, 0.01931042, 0.07878626],\n",
       "       [0.76216741, 0.99451645, 0.61355708],\n",
       "       ...,\n",
       "       [0.80390993, 0.88128137, 0.77041916],\n",
       "       [0.71174946, 0.76396806, 0.84654317],\n",
       "       [0.83952279, 0.25583959, 0.67885789]])"
      ]
     },
     "execution_count": 159,
     "metadata": {},
     "output_type": "execute_result"
    }
   ],
   "source": [
    "# combine the training predicted probabilities of logistic regression and random forest classifier\n",
    "train_probs = np.hstack((y_pred_prob_pca_lr_train[:, 1].reshape(-1,1), y_pred_prob_lda_lr_train[:, 1].reshape(-1,1), y_pred_prob_pca_rfc_train[:, 1].reshape(-1,1)))\n",
    "train_probs"
   ]
  },
  {
   "cell_type": "code",
   "execution_count": 160,
   "metadata": {},
   "outputs": [
    {
     "data": {
      "text/plain": [
       "array([[0.45777932, 0.08109445, 0.69083502],\n",
       "       [0.81604671, 0.6485476 , 0.76819172],\n",
       "       [0.87916245, 0.97777132, 0.73426752],\n",
       "       ...,\n",
       "       [0.49003854, 0.9545559 , 0.57672728],\n",
       "       [0.57983259, 0.03566045, 0.70365834],\n",
       "       [0.75967672, 0.90817719, 0.73855011]])"
      ]
     },
     "execution_count": 160,
     "metadata": {},
     "output_type": "execute_result"
    }
   ],
   "source": [
    "# combine the test predicted probabilities of logistic regression and random forest classifier\n",
    "test_probs = np.hstack((y_pred_prob_pca_lr_test[:, 1].reshape(-1,1), y_pred_prob_lda_lr_test[:, 1].reshape(-1,1), y_pred_prob_pca_rfc_test[:, 1].reshape(-1,1)))\n",
    "test_probs"
   ]
  },
  {
   "cell_type": "code",
   "execution_count": 188,
   "metadata": {},
   "outputs": [
    {
     "name": "stdout",
     "output_type": "stream",
     "text": [
      "threshold:  0.5\n",
      "running time:  0.293597936630249\n",
      "accuracy for train:  0.9568333333333333\n",
      "accuracy for test:  0.566\n",
      "confusion matrix:  [[175 325]\n",
      " [109 391]]\n",
      "----------------------------\n",
      "threshold:  0.5444444444444444\n",
      "running time:  0.3421592712402344\n",
      "accuracy for train:  0.9568333333333333\n",
      "accuracy for test:  0.566\n",
      "confusion matrix:  [[184 316]\n",
      " [118 382]]\n",
      "----------------------------\n",
      "threshold:  0.5888888888888889\n",
      "running time:  0.3535337448120117\n",
      "accuracy for train:  0.9568333333333333\n",
      "accuracy for test:  0.564\n",
      "confusion matrix:  [[191 309]\n",
      " [127 373]]\n",
      "----------------------------\n",
      "threshold:  0.6333333333333333\n",
      "running time:  0.3530902862548828\n",
      "accuracy for train:  0.9568333333333333\n",
      "accuracy for test:  0.572\n",
      "confusion matrix:  [[211 289]\n",
      " [139 361]]\n",
      "----------------------------\n",
      "threshold:  0.6777777777777778\n",
      "running time:  0.352189302444458\n",
      "accuracy for train:  0.9568333333333333\n",
      "accuracy for test:  0.573\n",
      "confusion matrix:  [[217 283]\n",
      " [144 356]]\n",
      "----------------------------\n",
      "threshold:  0.7222222222222222\n",
      "running time:  0.353330135345459\n",
      "accuracy for train:  0.9568333333333333\n",
      "accuracy for test:  0.576\n",
      "confusion matrix:  [[231 269]\n",
      " [155 345]]\n",
      "----------------------------\n",
      "threshold:  0.7666666666666666\n",
      "running time:  0.35189151763916016\n",
      "accuracy for train:  0.9568333333333333\n",
      "accuracy for test:  0.572\n",
      "confusion matrix:  [[237 263]\n",
      " [165 335]]\n",
      "----------------------------\n",
      "threshold:  0.8111111111111111\n",
      "running time:  0.35523319244384766\n",
      "accuracy for train:  0.9568333333333333\n",
      "accuracy for test:  0.574\n",
      "confusion matrix:  [[259 241]\n",
      " [185 315]]\n",
      "----------------------------\n",
      "threshold:  0.8555555555555556\n",
      "running time:  0.3651437759399414\n",
      "accuracy for train:  0.9568333333333333\n",
      "accuracy for test:  0.577\n",
      "confusion matrix:  [[277 223]\n",
      " [200 300]]\n",
      "----------------------------\n",
      "threshold:  0.9\n",
      "running time:  0.36369895935058594\n",
      "accuracy for train:  0.9568333333333333\n",
      "accuracy for test:  0.576\n",
      "confusion matrix:  [[301 199]\n",
      " [225 275]]\n",
      "----------------------------\n"
     ]
    }
   ],
   "source": [
    "# test the combined model with different classification thresholds\n",
    "for j in np.linspace(0.5, 0.9, 10):\n",
    "    print('threshold: ', j)\n",
    "    logistic_regression(train_probs, test_probs, y_train.ravel(), y_test.ravel(), threshold = j)\n",
    "    print('----------------------------')"
   ]
  },
  {
   "cell_type": "code",
   "execution_count": 168,
   "metadata": {},
   "outputs": [],
   "source": [
    "# combine the training predicted probabilities of 3 Deep Learning models \n",
    "train_probs_2 = np.hstack((y_pred_prob_train_vgg2, y_pred_prob_train_xception2, y_pred_prob_train_densenet2))\n",
    "# combine the training predicted probabilities of 3 Deep Learning models\n",
    "test_probs_2 = np.hstack((y_pred_prob_vgg2, y_pred_prob_xception2, y_pred_prob_densenet2))"
   ]
  },
  {
   "cell_type": "code",
   "execution_count": 189,
   "metadata": {},
   "outputs": [
    {
     "name": "stdout",
     "output_type": "stream",
     "text": [
      "threshold:  0.5\n",
      "running time:  0.21611738204956055\n",
      "accuracy for train:  0.7970833333333334\n",
      "accuracy for test:  0.662\n",
      "confusion matrix:  [[249 251]\n",
      " [ 87 413]]\n",
      "----------------------------\n",
      "threshold:  0.5444444444444444\n",
      "running time:  0.27676916122436523\n",
      "accuracy for train:  0.7970833333333334\n",
      "accuracy for test:  0.677\n",
      "confusion matrix:  [[269 231]\n",
      " [ 92 408]]\n",
      "----------------------------\n",
      "threshold:  0.5888888888888889\n",
      "running time:  0.2768261432647705\n",
      "accuracy for train:  0.7970833333333334\n",
      "accuracy for test:  0.69\n",
      "confusion matrix:  [[286 214]\n",
      " [ 96 404]]\n",
      "----------------------------\n",
      "threshold:  0.6333333333333333\n",
      "running time:  0.2769310474395752\n",
      "accuracy for train:  0.7970833333333334\n",
      "accuracy for test:  0.695\n",
      "confusion matrix:  [[299 201]\n",
      " [104 396]]\n",
      "----------------------------\n",
      "threshold:  0.6777777777777778\n",
      "running time:  0.27771425247192383\n",
      "accuracy for train:  0.7970833333333334\n",
      "accuracy for test:  0.704\n",
      "confusion matrix:  [[321 179]\n",
      " [117 383]]\n",
      "----------------------------\n",
      "threshold:  0.7222222222222222\n",
      "running time:  0.2767524719238281\n",
      "accuracy for train:  0.7970833333333334\n",
      "accuracy for test:  0.718\n",
      "confusion matrix:  [[338 162]\n",
      " [120 380]]\n",
      "----------------------------\n",
      "threshold:  0.7666666666666666\n",
      "running time:  0.2769191265106201\n",
      "accuracy for train:  0.7970833333333334\n",
      "accuracy for test:  0.725\n",
      "confusion matrix:  [[354 146]\n",
      " [129 371]]\n",
      "----------------------------\n",
      "threshold:  0.8111111111111111\n",
      "running time:  0.2769310474395752\n",
      "accuracy for train:  0.7970833333333334\n",
      "accuracy for test:  0.729\n",
      "confusion matrix:  [[376 124]\n",
      " [147 353]]\n",
      "----------------------------\n",
      "threshold:  0.8555555555555556\n",
      "running time:  0.27667689323425293\n",
      "accuracy for train:  0.7970833333333334\n",
      "accuracy for test:  0.722\n",
      "confusion matrix:  [[394 106]\n",
      " [172 328]]\n",
      "----------------------------\n",
      "threshold:  0.9\n",
      "running time:  0.2767066955566406\n",
      "accuracy for train:  0.7970833333333334\n",
      "accuracy for test:  0.712\n",
      "confusion matrix:  [[429  71]\n",
      " [217 283]]\n",
      "----------------------------\n"
     ]
    }
   ],
   "source": [
    "# test the combined model with different classification thresholds\n",
    "for j in np.linspace(0.5, 0.9, 10):\n",
    "    print('threshold: ', j)\n",
    "    logistic_regression(train_probs_2, test_probs_2, y_train_densenet2.ravel(), y_test.ravel(), threshold = j)\n",
    "    print('----------------------------')"
   ]
  }
 ],
 "metadata": {
  "kernelspec": {
   "display_name": "Python 3",
   "language": "python",
   "name": "python3"
  },
  "language_info": {
   "codemirror_mode": {
    "name": "ipython",
    "version": 3
   },
   "file_extension": ".py",
   "mimetype": "text/x-python",
   "name": "python",
   "nbconvert_exporter": "python",
   "pygments_lexer": "ipython3",
   "version": "3.6.8"
  }
 },
 "nbformat": 4,
 "nbformat_minor": 4
}
